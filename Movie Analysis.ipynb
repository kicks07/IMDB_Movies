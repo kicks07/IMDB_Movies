{
 "cells": [
  {
   "cell_type": "markdown",
   "id": "25cd1e82",
   "metadata": {},
   "source": [
    "# IMDB Movie Analysis"
   ]
  },
  {
   "cell_type": "markdown",
   "id": "e59e9ff8",
   "metadata": {},
   "source": [
    "## Introduction"
   ]
  },
  {
   "cell_type": "markdown",
   "id": "2419b342",
   "metadata": {},
   "source": [
    "Movies are interesting topic from a socio-economic perspective. One of the largest areas that require analysis is the mismatch between consumer expectations and studio expectations. This often leads to disappointment at the box-office for blockbuster movies. Below we will answer the following questions:\n",
    "- Q1: Is a big buget movie indicative of a well-rated movie?\n",
    "- Q2: Will a big buget movie indicate a profitable movie?\n",
    "- Q3: Do movies that are better reviewed, ultimately generate more profit?"
   ]
  },
  {
   "cell_type": "markdown",
   "id": "50a511f2",
   "metadata": {},
   "source": [
    "## Packages"
   ]
  },
  {
   "cell_type": "markdown",
   "id": "3a780ccd",
   "metadata": {},
   "source": [
    "The code below imports the required packages for the analysis."
   ]
  },
  {
   "cell_type": "code",
   "execution_count": 7,
   "id": "022c1b66",
   "metadata": {},
   "outputs": [],
   "source": [
    "import pandas as pd\n",
    "import matplotlib.pyplot as plt\n",
    "import os"
   ]
  },
  {
   "cell_type": "markdown",
   "id": "f1f53b97",
   "metadata": {},
   "source": [
    "## Gather Data"
   ]
  },
  {
   "cell_type": "markdown",
   "id": "8a3d3628",
   "metadata": {},
   "source": [
    "Data is being pulled from an IMDB movie dataset. This data was collected in 2021 and downloaded and saved for conssumption."
   ]
  },
  {
   "cell_type": "code",
   "execution_count": 8,
   "id": "dda56c74",
   "metadata": {},
   "outputs": [],
   "source": [
    "# Using the relative filepath to the install location the data path is setup\n",
    "data = os.getcwd() + '\\\\tmdb_5000_movies.csv'\n",
    "# Pandas reads in the CSV to create the dataset\n",
    "df = pd.read_csv(data)\n",
    "# The columns required to answer the questions"
   ]
  },
  {
   "cell_type": "markdown",
   "id": "f2057040",
   "metadata": {},
   "source": [
    "## Assess Data"
   ]
  },
  {
   "cell_type": "code",
   "execution_count": 9,
   "id": "1c343041",
   "metadata": {},
   "outputs": [
    {
     "data": {
      "text/html": [
       "<div>\n",
       "<style scoped>\n",
       "    .dataframe tbody tr th:only-of-type {\n",
       "        vertical-align: middle;\n",
       "    }\n",
       "\n",
       "    .dataframe tbody tr th {\n",
       "        vertical-align: top;\n",
       "    }\n",
       "\n",
       "    .dataframe thead th {\n",
       "        text-align: right;\n",
       "    }\n",
       "</style>\n",
       "<table border=\"1\" class=\"dataframe\">\n",
       "  <thead>\n",
       "    <tr style=\"text-align: right;\">\n",
       "      <th></th>\n",
       "      <th>budget</th>\n",
       "      <th>revenue</th>\n",
       "      <th>vote_average</th>\n",
       "      <th>net_income</th>\n",
       "    </tr>\n",
       "  </thead>\n",
       "  <tbody>\n",
       "    <tr>\n",
       "      <th>count</th>\n",
       "      <td>4.803000e+03</td>\n",
       "      <td>4.803000e+03</td>\n",
       "      <td>4803.000000</td>\n",
       "      <td>4.803000e+03</td>\n",
       "    </tr>\n",
       "    <tr>\n",
       "      <th>mean</th>\n",
       "      <td>2.904504e+07</td>\n",
       "      <td>8.226064e+07</td>\n",
       "      <td>6.092172</td>\n",
       "      <td>5.321560e+07</td>\n",
       "    </tr>\n",
       "    <tr>\n",
       "      <th>std</th>\n",
       "      <td>4.072239e+07</td>\n",
       "      <td>1.628571e+08</td>\n",
       "      <td>1.194612</td>\n",
       "      <td>1.359677e+08</td>\n",
       "    </tr>\n",
       "    <tr>\n",
       "      <th>min</th>\n",
       "      <td>0.000000e+00</td>\n",
       "      <td>0.000000e+00</td>\n",
       "      <td>0.000000</td>\n",
       "      <td>-1.657101e+08</td>\n",
       "    </tr>\n",
       "    <tr>\n",
       "      <th>25%</th>\n",
       "      <td>7.900000e+05</td>\n",
       "      <td>0.000000e+00</td>\n",
       "      <td>5.600000</td>\n",
       "      <td>-7.995375e+05</td>\n",
       "    </tr>\n",
       "    <tr>\n",
       "      <th>50%</th>\n",
       "      <td>1.500000e+07</td>\n",
       "      <td>1.917000e+07</td>\n",
       "      <td>6.200000</td>\n",
       "      <td>2.511317e+06</td>\n",
       "    </tr>\n",
       "    <tr>\n",
       "      <th>75%</th>\n",
       "      <td>4.000000e+07</td>\n",
       "      <td>9.291719e+07</td>\n",
       "      <td>6.800000</td>\n",
       "      <td>5.531286e+07</td>\n",
       "    </tr>\n",
       "    <tr>\n",
       "      <th>max</th>\n",
       "      <td>3.800000e+08</td>\n",
       "      <td>2.787965e+09</td>\n",
       "      <td>10.000000</td>\n",
       "      <td>2.550965e+09</td>\n",
       "    </tr>\n",
       "  </tbody>\n",
       "</table>\n",
       "</div>"
      ],
      "text/plain": [
       "             budget       revenue  vote_average    net_income\n",
       "count  4.803000e+03  4.803000e+03   4803.000000  4.803000e+03\n",
       "mean   2.904504e+07  8.226064e+07      6.092172  5.321560e+07\n",
       "std    4.072239e+07  1.628571e+08      1.194612  1.359677e+08\n",
       "min    0.000000e+00  0.000000e+00      0.000000 -1.657101e+08\n",
       "25%    7.900000e+05  0.000000e+00      5.600000 -7.995375e+05\n",
       "50%    1.500000e+07  1.917000e+07      6.200000  2.511317e+06\n",
       "75%    4.000000e+07  9.291719e+07      6.800000  5.531286e+07\n",
       "max    3.800000e+08  2.787965e+09     10.000000  2.550965e+09"
      ]
     },
     "execution_count": 9,
     "metadata": {},
     "output_type": "execute_result"
    }
   ],
   "source": [
    "df = df[['budget', 'revenue', 'vote_average']].copy()\n",
    "# Net Income represents the difference between gross revenue and budget\n",
    "# Budget is a surrogate for actual cost spent\n",
    "df['net_income'] = df['revenue'] - df['budget']\n",
    "df.describe()"
   ]
  },
  {
   "cell_type": "markdown",
   "id": "bbfcbe19",
   "metadata": {},
   "source": [
    "Note the above data is all numerical data. Zeros being recorded in the budget or revenue column represents incomplete or erroneous data. This is due to the idea that movies require some kind of financial constraint to be produced and must produce some kind of revenue as a return on that investment. We will clean this up in the following step."
   ]
  },
  {
   "cell_type": "markdown",
   "id": "41c277b3",
   "metadata": {},
   "source": [
    "## Clean Data"
   ]
  },
  {
   "cell_type": "markdown",
   "id": "fce9c135",
   "metadata": {},
   "source": [
    "Data cleaned to remove anomaly data where the budget or the revenue are 0, indicating errors in the data or extreme outliers."
   ]
  },
  {
   "cell_type": "code",
   "execution_count": 6,
   "id": "76bdfa6b",
   "metadata": {},
   "outputs": [],
   "source": [
    "# Remove movies with no budget or revenue\n",
    "df_clean = df[(df['budget'] > 0) &\n",
    "              (df['revenue'] > 0)\n",
    "             ]"
   ]
  },
  {
   "cell_type": "markdown",
   "id": "43c41254",
   "metadata": {},
   "source": [
    "## Analyze Data"
   ]
  },
  {
   "cell_type": "markdown",
   "id": "15f87c95",
   "metadata": {},
   "source": [
    "### Q1: Is a big buget movie indicative of a well-rated movie?"
   ]
  },
  {
   "cell_type": "markdown",
   "id": "74671e37",
   "metadata": {},
   "source": [
    "To determine if a big budget movie is the key to a well-rated movie, we will compare the voter average score against the budget the movie was given."
   ]
  },
  {
   "cell_type": "code",
   "execution_count": 10,
   "id": "963423eb",
   "metadata": {},
   "outputs": [
    {
     "data": {
      "text/html": [
       "<div>\n",
       "<style scoped>\n",
       "    .dataframe tbody tr th:only-of-type {\n",
       "        vertical-align: middle;\n",
       "    }\n",
       "\n",
       "    .dataframe tbody tr th {\n",
       "        vertical-align: top;\n",
       "    }\n",
       "\n",
       "    .dataframe thead th {\n",
       "        text-align: right;\n",
       "    }\n",
       "</style>\n",
       "<table border=\"1\" class=\"dataframe\">\n",
       "  <thead>\n",
       "    <tr style=\"text-align: right;\">\n",
       "      <th></th>\n",
       "      <th>budget</th>\n",
       "      <th>vote_average</th>\n",
       "    </tr>\n",
       "  </thead>\n",
       "  <tbody>\n",
       "    <tr>\n",
       "      <th>0</th>\n",
       "      <td>237000000</td>\n",
       "      <td>7.2</td>\n",
       "    </tr>\n",
       "    <tr>\n",
       "      <th>1</th>\n",
       "      <td>300000000</td>\n",
       "      <td>6.9</td>\n",
       "    </tr>\n",
       "  </tbody>\n",
       "</table>\n",
       "</div>"
      ],
      "text/plain": [
       "      budget  vote_average\n",
       "0  237000000           7.2\n",
       "1  300000000           6.9"
      ]
     },
     "execution_count": 10,
     "metadata": {},
     "output_type": "execute_result"
    }
   ],
   "source": [
    "# Create budget v. voter average specific data set\n",
    "df_bug_va = df_clean[['budget', 'vote_average']].copy()\n",
    "df_bug_va.head(2)"
   ]
  },
  {
   "cell_type": "code",
   "execution_count": 11,
   "id": "b5ac1b32",
   "metadata": {},
   "outputs": [
    {
     "data": {
      "text/html": [
       "<div>\n",
       "<style scoped>\n",
       "    .dataframe tbody tr th:only-of-type {\n",
       "        vertical-align: middle;\n",
       "    }\n",
       "\n",
       "    .dataframe tbody tr th {\n",
       "        vertical-align: top;\n",
       "    }\n",
       "\n",
       "    .dataframe thead th {\n",
       "        text-align: right;\n",
       "    }\n",
       "</style>\n",
       "<table border=\"1\" class=\"dataframe\">\n",
       "  <thead>\n",
       "    <tr style=\"text-align: right;\">\n",
       "      <th></th>\n",
       "      <th>budget</th>\n",
       "      <th>vote_average</th>\n",
       "    </tr>\n",
       "  </thead>\n",
       "  <tbody>\n",
       "    <tr>\n",
       "      <th>budget</th>\n",
       "      <td>1.000000</td>\n",
       "      <td>-0.031208</td>\n",
       "    </tr>\n",
       "    <tr>\n",
       "      <th>vote_average</th>\n",
       "      <td>-0.031208</td>\n",
       "      <td>1.000000</td>\n",
       "    </tr>\n",
       "  </tbody>\n",
       "</table>\n",
       "</div>"
      ],
      "text/plain": [
       "                budget  vote_average\n",
       "budget        1.000000     -0.031208\n",
       "vote_average -0.031208      1.000000"
      ]
     },
     "execution_count": 11,
     "metadata": {},
     "output_type": "execute_result"
    }
   ],
   "source": [
    "# Use correlation to determine the relationship between the variables\n",
    "df_bug_va.corr()"
   ]
  },
  {
   "cell_type": "code",
   "execution_count": 12,
   "id": "378d4dd0",
   "metadata": {},
   "outputs": [
    {
     "data": {
      "image/png": "[encoded data removed]",
      "text/plain": [
       "<Figure size 432x288 with 1 Axes>"
      ]
     },
     "metadata": {
      "needs_background": "light"
     },
     "output_type": "display_data"
    }
   ],
   "source": [
    "# Use a scatter plot visualize the variables relationship\n",
    "plt.scatter(df_bug_va['budget'], df_bug_va['vote_average'])\n",
    "plt.show()"
   ]
  },
  {
   "cell_type": "markdown",
   "id": "f290d7a4",
   "metadata": {},
   "source": [
    "When assessing budget against the voter average we note that the correlation value is near zero and that the scatter plot is not indicative of any relationship, positive or negative."
   ]
  },
  {
   "cell_type": "markdown",
   "id": "5eecf0c9",
   "metadata": {},
   "source": [
    "### Q2: Will a big buget movie indicate a profitable movie?"
   ]
  },
  {
   "cell_type": "markdown",
   "id": "930af728",
   "metadata": {},
   "source": [
    "To determine if a big budget movie is the key to a profitable movie, we will compare the movie's net income score against the budget the movie was given."
   ]
  },
  {
   "cell_type": "code",
   "execution_count": 13,
   "id": "05d54841",
   "metadata": {},
   "outputs": [
    {
     "data": {
      "text/html": [
       "<div>\n",
       "<style scoped>\n",
       "    .dataframe tbody tr th:only-of-type {\n",
       "        vertical-align: middle;\n",
       "    }\n",
       "\n",
       "    .dataframe tbody tr th {\n",
       "        vertical-align: top;\n",
       "    }\n",
       "\n",
       "    .dataframe thead th {\n",
       "        text-align: right;\n",
       "    }\n",
       "</style>\n",
       "<table border=\"1\" class=\"dataframe\">\n",
       "  <thead>\n",
       "    <tr style=\"text-align: right;\">\n",
       "      <th></th>\n",
       "      <th>budget</th>\n",
       "      <th>net_income</th>\n",
       "    </tr>\n",
       "  </thead>\n",
       "  <tbody>\n",
       "    <tr>\n",
       "      <th>0</th>\n",
       "      <td>237000000</td>\n",
       "      <td>2550965087</td>\n",
       "    </tr>\n",
       "    <tr>\n",
       "      <th>1</th>\n",
       "      <td>300000000</td>\n",
       "      <td>661000000</td>\n",
       "    </tr>\n",
       "  </tbody>\n",
       "</table>\n",
       "</div>"
      ],
      "text/plain": [
       "      budget  net_income\n",
       "0  237000000  2550965087\n",
       "1  300000000   661000000"
      ]
     },
     "execution_count": 13,
     "metadata": {},
     "output_type": "execute_result"
    }
   ],
   "source": [
    "# Subset the data to compate budget against net income\n",
    "df_bug_ni = df_clean[['budget', 'net_income']].copy()\n",
    "df_bug_ni.head(2)"
   ]
  },
  {
   "cell_type": "code",
   "execution_count": 14,
   "id": "70000fc7",
   "metadata": {},
   "outputs": [
    {
     "data": {
      "text/html": [
       "<div>\n",
       "<style scoped>\n",
       "    .dataframe tbody tr th:only-of-type {\n",
       "        vertical-align: middle;\n",
       "    }\n",
       "\n",
       "    .dataframe tbody tr th {\n",
       "        vertical-align: top;\n",
       "    }\n",
       "\n",
       "    .dataframe thead th {\n",
       "        text-align: right;\n",
       "    }\n",
       "</style>\n",
       "<table border=\"1\" class=\"dataframe\">\n",
       "  <thead>\n",
       "    <tr style=\"text-align: right;\">\n",
       "      <th></th>\n",
       "      <th>budget</th>\n",
       "      <th>net_income</th>\n",
       "    </tr>\n",
       "  </thead>\n",
       "  <tbody>\n",
       "    <tr>\n",
       "      <th>budget</th>\n",
       "      <td>1.000000</td>\n",
       "      <td>0.550252</td>\n",
       "    </tr>\n",
       "    <tr>\n",
       "      <th>net_income</th>\n",
       "      <td>0.550252</td>\n",
       "      <td>1.000000</td>\n",
       "    </tr>\n",
       "  </tbody>\n",
       "</table>\n",
       "</div>"
      ],
      "text/plain": [
       "              budget  net_income\n",
       "budget      1.000000    0.550252\n",
       "net_income  0.550252    1.000000"
      ]
     },
     "execution_count": 14,
     "metadata": {},
     "output_type": "execute_result"
    }
   ],
   "source": [
    "# Use correlation to determine the relationship between the variables\n",
    "df_bug_ni.corr()"
   ]
  },
  {
   "cell_type": "code",
   "execution_count": 15,
   "id": "978a7a7c",
   "metadata": {},
   "outputs": [
    {
     "data": {
      "image/png": "[encoded data removed]",
      "text/plain": [
       "<Figure size 432x288 with 1 Axes>"
      ]
     },
     "metadata": {
      "needs_background": "light"
     },
     "output_type": "display_data"
    }
   ],
   "source": [
    "# Use a scatter plot visualize the variables relationship\n",
    "plt.scatter(df_bug_ni['budget'], df_bug_ni['net_income'])\n",
    "plt.show()"
   ]
  },
  {
   "cell_type": "markdown",
   "id": "f76f7a92",
   "metadata": {},
   "source": [
    "There is some evidence to support that there is a correlation between a movie's budget and a movie's profit. The scatter plot also indicates there is some positive relationship between the two."
   ]
  },
  {
   "cell_type": "markdown",
   "id": "e2608250",
   "metadata": {},
   "source": [
    "### Q3: Do movies that are better reviewed, ultimately generate more profit?"
   ]
  },
  {
   "cell_type": "code",
   "execution_count": 16,
   "id": "aff925bb",
   "metadata": {},
   "outputs": [
    {
     "data": {
      "text/html": [
       "<div>\n",
       "<style scoped>\n",
       "    .dataframe tbody tr th:only-of-type {\n",
       "        vertical-align: middle;\n",
       "    }\n",
       "\n",
       "    .dataframe tbody tr th {\n",
       "        vertical-align: top;\n",
       "    }\n",
       "\n",
       "    .dataframe thead th {\n",
       "        text-align: right;\n",
       "    }\n",
       "</style>\n",
       "<table border=\"1\" class=\"dataframe\">\n",
       "  <thead>\n",
       "    <tr style=\"text-align: right;\">\n",
       "      <th></th>\n",
       "      <th>vote_average</th>\n",
       "      <th>net_income</th>\n",
       "    </tr>\n",
       "  </thead>\n",
       "  <tbody>\n",
       "    <tr>\n",
       "      <th>0</th>\n",
       "      <td>7.2</td>\n",
       "      <td>2550965087</td>\n",
       "    </tr>\n",
       "    <tr>\n",
       "      <th>1</th>\n",
       "      <td>6.9</td>\n",
       "      <td>661000000</td>\n",
       "    </tr>\n",
       "  </tbody>\n",
       "</table>\n",
       "</div>"
      ],
      "text/plain": [
       "   vote_average  net_income\n",
       "0           7.2  2550965087\n",
       "1           6.9   661000000"
      ]
     },
     "execution_count": 16,
     "metadata": {},
     "output_type": "execute_result"
    }
   ],
   "source": [
    "# Create net income v. voter average specific data set\n",
    "df_va_ni = df_clean[['vote_average', 'net_income']].copy()\n",
    "df_va_ni.head(2)"
   ]
  },
  {
   "cell_type": "code",
   "execution_count": 17,
   "id": "4b5c9c72",
   "metadata": {},
   "outputs": [
    {
     "data": {
      "text/html": [
       "<div>\n",
       "<style scoped>\n",
       "    .dataframe tbody tr th:only-of-type {\n",
       "        vertical-align: middle;\n",
       "    }\n",
       "\n",
       "    .dataframe tbody tr th {\n",
       "        vertical-align: top;\n",
       "    }\n",
       "\n",
       "    .dataframe thead th {\n",
       "        text-align: right;\n",
       "    }\n",
       "</style>\n",
       "<table border=\"1\" class=\"dataframe\">\n",
       "  <thead>\n",
       "    <tr style=\"text-align: right;\">\n",
       "      <th></th>\n",
       "      <th>vote_average</th>\n",
       "      <th>net_income</th>\n",
       "    </tr>\n",
       "  </thead>\n",
       "  <tbody>\n",
       "    <tr>\n",
       "      <th>vote_average</th>\n",
       "      <td>1.000000</td>\n",
       "      <td>0.230041</td>\n",
       "    </tr>\n",
       "    <tr>\n",
       "      <th>net_income</th>\n",
       "      <td>0.230041</td>\n",
       "      <td>1.000000</td>\n",
       "    </tr>\n",
       "  </tbody>\n",
       "</table>\n",
       "</div>"
      ],
      "text/plain": [
       "              vote_average  net_income\n",
       "vote_average      1.000000    0.230041\n",
       "net_income        0.230041    1.000000"
      ]
     },
     "execution_count": 17,
     "metadata": {},
     "output_type": "execute_result"
    }
   ],
   "source": [
    "# Use correlation to determine the relationship between the variables\n",
    "df_va_ni.corr()"
   ]
  },
  {
   "cell_type": "code",
   "execution_count": 18,
   "id": "5efb432d",
   "metadata": {},
   "outputs": [
    {
     "data": {
      "image/png": "[encoded data removed]",
      "text/plain": [
       "<Figure size 432x288 with 1 Axes>"
      ]
     },
     "metadata": {
      "needs_background": "light"
     },
     "output_type": "display_data"
    }
   ],
   "source": [
    "# Use a scatter plot visualize the variables relationship\n",
    "plt.scatter(df_va_ni['vote_average'], df_va_ni['net_income'])\n",
    "plt.show()"
   ]
  },
  {
   "cell_type": "markdown",
   "id": "1b5e884f",
   "metadata": {},
   "source": [
    "When assessing profit against the voter average we note that there is a limited correlation between the two variables. This indicates there is some incentive to increase quality for profits, but the primary driver appears to be the budget. The scatter plot indicates a slight relationship, although it is limited."
   ]
  },
  {
   "cell_type": "markdown",
   "id": "224c1d05",
   "metadata": {},
   "source": [
    "## Results"
   ]
  },
  {
   "cell_type": "markdown",
   "id": "9c8268f7",
   "metadata": {},
   "source": [
    "- Q1: There is no evidence that big budget movies drive higher voter ratings.\n",
    "- Q2: There is some evidence that bigger budget movies drive higher profits.\n",
    "- Q3: There is limited evidence that movies that are better rated, drive higher profits."
   ]
  },
  {
   "cell_type": "markdown",
   "id": "6178bf54",
   "metadata": {},
   "source": [
    "## Conclusion"
   ]
  },
  {
   "cell_type": "markdown",
   "id": "b9210e28",
   "metadata": {},
   "source": [
    "There is some evidence to support that movies that have larger budgets tend to produce higher profits. This is likely the result of larger marketing budgets allowing more visability for the movie during the production process, driving more consumers to the theaters upon release.\n",
    "\n",
    "However, there is no clear indicatgion that making higher quality movies will turn out additional profits. Thus, it may be more profitable to invest in film visability over film quality."
   ]
  },
  {
   "cell_type": "code",
   "execution_count": null,
   "id": "ec8b535a",
   "metadata": {},
   "outputs": [],
   "source": []
  }
 ],
 "metadata": {
  "kernelspec": {
   "display_name": "Python 3 (ipykernel)",
   "language": "python",
   "name": "python3"
  },
  "language_info": {
   "codemirror_mode": {
    "name": "ipython",
    "version": 3
   },
   "file_extension": ".py",
   "mimetype": "text/x-python",
   "name": "python",
   "nbconvert_exporter": "python",
   "pygments_lexer": "ipython3",
   "version": "3.8.11"
  }
 },
 "nbformat": 4,
 "nbformat_minor": 5
}
